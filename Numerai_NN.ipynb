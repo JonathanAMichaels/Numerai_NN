{
  "nbformat": 4,
  "nbformat_minor": 0,
  "metadata": {
    "kernelspec": {
      "name": "pycharm-2daf000",
      "language": "python",
      "display_name": "PyCharm (Numerai-Torch)"
    },
    "language_info": {
      "codemirror_mode": {
        "name": "ipython",
        "version": 3
      },
      "file_extension": ".py",
      "mimetype": "text/x-python",
      "name": "python",
      "nbconvert_exporter": "python",
      "pygments_lexer": "ipython3",
      "version": "3.6.10"
    },
    "colab": {
      "name": "Numerai.ipynb",
      "provenance": [],
      "include_colab_link": true
    }
  },
  "cells": [
    {
      "cell_type": "markdown",
      "metadata": {
        "id": "view-in-github",
        "colab_type": "text"
      },
      "source": [
        "<a href=\"https://colab.research.google.com/github/JonathanAMichaels/Numerai_NN/blob/main/Numerai_NN.ipynb\" target=\"_parent\"><img src=\"https://colab.research.google.com/assets/colab-badge.svg\" alt=\"Open In Colab\"/></a>"
      ]
    },
    {
      "cell_type": "code",
      "metadata": {
        "id": "Edgh_Ba7_9wE",
        "outputId": "fe1c0fb7-a1c0-4e92-d0ba-b607e4194d2b"
      },
      "source": [
        "import torch\n",
        "import copy\n",
        "import torch.nn as nn\n",
        "import pandas\n",
        "import numpy as np\n",
        "import h5py\n",
        "import matplotlib.pyplot as plt\n",
        "from scipy import stats\n",
        "from scipy.io import loadmat\n",
        "from IPython.display import display, clear_output\n",
        "\n",
        "\n",
        "# Check if GPU is available\n",
        "if torch.cuda.is_available():\n",
        "    device = torch.device(\"cuda\")\n",
        "    print(\"GPU\")\n",
        "else:\n",
        "    device = torch.device(\"cpu\")\n",
        "    print(\"CPU\")\n",
        "\n",
        "data = {}\n",
        "f = h5py.File('TrainingData.mat')\n",
        "for k, v in f.items():\n",
        "    data[k] = np.array(v)\n",
        "\n",
        "val_data = loadmat('ValData.mat')\n",
        "\n",
        "#df=pandas.read_csv(\"/media/jonathan/Data/Numerai/numerai_training_data.csv\")\n",
        "#df.head()\n",
        "# There are 501808 rows grouped into eras, and a single target (target_kazutsugi)\n",
        "#df.shape\n",
        "\n",
        "# There's 310 features\n",
        "#features = [c for c in df if c.startswith(\"feature\")]\n",
        "#df[\"erano\"] = df.era.str.slice(3).astype(int)\n",
        "#eras = df.erano\n",
        "#target = \"target_kazutsugi\"\n",
        "#len(features)\n",
        "\n",
        "#x = torch.tensor(df[features].values).type(torch.FloatTensor).to(device)\n",
        "#y = torch.tensor(df[target].values).type(torch.FloatTensor).to(device)\n",
        "\n",
        "x = torch.from_numpy(data.get('inpData')).transpose(0,1).type(torch.FloatTensor).to(device)\n",
        "y = torch.from_numpy(data.get('targData')).transpose(0,1).type(torch.FloatTensor).to(device)\n",
        "\n",
        "x_val1 = torch.from_numpy(val_data.get('inp_val1')).type(torch.FloatTensor).to(device)\n",
        "x_val2 = torch.from_numpy(val_data.get('inp_val2')).type(torch.FloatTensor).to(device)\n",
        "y_val1 = val_data.get('targ_val1')\n",
        "y_val2 = val_data.get('targ_val2')\n",
        "eras_val1 = val_data.get('eras_val1').transpose()\n",
        "eras_val2 = val_data.get('eras_val2').transpose()\n",
        "uEras1 = np.unique(eras_val1)\n",
        "uEras2 = np.unique(eras_val2)\n",
        "\n",
        "# The models should be scored based on the rank-correlation (spearman) with the target\n",
        "#def numerai_score(y_true, y_pred):\n",
        "#    rank_pred = y_pred.groupby(eras).apply(lambda x: x.rank(pct=True, method=\"first\"))\n",
        "#    return np.corrcoef(y_true, rank_pred)[0,1]\n",
        "\n",
        "# N is batch size; D_in is input dimension;\n",
        "# H is hidden dimension; D_out is output dimension.\n",
        "N, D_in, H, D_out = 2000, x.shape[1], 4000, 1\n",
        "# 500 batch size best, 4000 units best"
      ],
      "execution_count": null,
      "outputs": [
        {
          "output_type": "stream",
          "text": [
            "GPU\n"
          ],
          "name": "stdout"
        },
        {
          "output_type": "stream",
          "text": [
            "/home/jonathan/.conda/envs/torch/lib/python3.6/site-packages/ipykernel_launcher.py:22: H5pyDeprecationWarning: The default file mode will change to 'r' (read-only) in h5py 3.0. To suppress this warning, pass the mode you need to h5py.File(), or set the global default h5.get_config().default_file_mode, or set the environment variable H5PY_DEFAULT_READONLY=1. Available modes are: 'r', 'r+', 'w', 'w-'/'x', 'a'. See the docs for details.\n"
          ],
          "name": "stderr"
        }
      ]
    },
    {
      "cell_type": "code",
      "metadata": {
        "pycharm": {
          "name": "#%%\n"
        },
        "id": "NaLIpxe1_9wM"
      },
      "source": [
        "def myCrossEntropyLoss(outputs, labels):\n",
        "    A = labels*torch.log(outputs+1e-200)\n",
        "    B = (1-labels)*torch.log(1-outputs+1e-200)\n",
        "    O = torch.mean(A+B)\n",
        "    return -O\n",
        "\n",
        "# Use the nn package to define our model and loss function.\n",
        "H2 = 500\n",
        "model = nn.Sequential(\n",
        "    nn.Linear(D_in, H),\n",
        "    nn.RReLU(),\n",
        "    nn.Linear(H, D_out),\n",
        "    nn.Sigmoid(),\n",
        ")\n",
        "model.to(device)\n",
        "\n",
        "# Use the optim package to define an Optimizer that will update the weights of\n",
        "# the model for us. Here we will use Adam; the optim package contains many other\n",
        "# optimization algorithms. The first argument to the Adam constructor tells the\n",
        "# optimizer which Tensors it should update.\n",
        "learning_rate = 1e-3 # 1e-4 best\n",
        "optimizer = torch.optim.Adam(model.parameters(), lr=learning_rate, weight_decay= 1e-5) # 1e-5 best"
      ],
      "execution_count": null,
      "outputs": []
    },
    {
      "cell_type": "code",
      "metadata": {
        "pycharm": {
          "name": "#%%\n"
        },
        "id": "ufHj-aSM_9wR",
        "outputId": "c183f0ae-1469-47f6-fcda-936c7c7c07ae"
      },
      "source": [
        "fig = plt.figure(figsize=(9,3), dpi=100)\n",
        "ax1 = fig.add_subplot(1,3,1)\n",
        "ax2 = fig.add_subplot(1,3,2)\n",
        "ax3 = fig.add_subplot(1,3,3)\n",
        "\n",
        "all_loss = []\n",
        "all_sharpe = []\n",
        "all_cor = []\n",
        "all_ratio = []\n",
        "all_t = []\n",
        "best_sharpe = 0\n",
        "for t in range(30000):\n",
        "    l1_regularization, l2_regularization = torch.tensor(0).type(torch.FloatTensor).to(device), torch.tensor(0).type(torch.FloatTensor).to(device)\n",
        "    batch_ind = np.random.randint(0,x.shape[0]-1,N)\n",
        "    # Forward pass: compute predicted y by passing x to the model.\n",
        "    model.train()\n",
        "    y_pred = model(x[batch_ind,:])\n",
        "\n",
        "    for param in model.parameters():\n",
        "        l1_regularization += torch.norm(param, 1)**2\n",
        "        l2_regularization += torch.norm(param, 2)**2\n",
        "\n",
        "    # Compute loss.\n",
        "    criterion = torch.nn.BCELoss()\n",
        "    loss = criterion(y_pred, y[batch_ind])# + 1e-11*l1_regularization + 0*l2_regularization\n",
        "    # 1e-11 best\n",
        "    model.eval()\n",
        "    [traincor, p] = stats.spearmanr(y_pred.cpu().detach().numpy(), y[batch_ind].cpu().detach().numpy())\n",
        "    y_pred1 = model(x_val1)\n",
        "    y_pred2 = model(x_val2)\n",
        "    cor1 = []\n",
        "    cor2 = []\n",
        "    temp_pred = y_pred1.cpu().detach().numpy()\n",
        "    for i in uEras1:\n",
        "        [temp, p] = stats.spearmanr(y_val1[eras_val1 == i], temp_pred[eras_val1 == i])\n",
        "        cor1.append(temp)\n",
        "    temp_pred = y_pred2.cpu().detach().numpy()\n",
        "    for i in uEras2:\n",
        "        [temp, p] = stats.spearmanr(y_val2[eras_val2 == i], temp_pred[eras_val2 == i])\n",
        "        cor2.append(temp)\n",
        "    sharpe = np.mean(np.concatenate((cor1,cor2))) / np.std(np.concatenate((cor1, cor2)))\n",
        "    if sharpe > best_sharpe:\n",
        "        best_sharpe = sharpe\n",
        "        best_model = copy.deepcopy(model)\n",
        "        best_model.to(torch.device(\"cpu\"))\n",
        "    if (t % 20 == 0) and (t > 0):\n",
        "        all_sharpe.append(sharpe)\n",
        "        all_cor.append(np.mean(np.concatenate((cor1,cor2))))\n",
        "        all_ratio.append((np.mean(cor1)-np.mean(cor2))/(np.mean(cor1)+np.mean(cor2)))\n",
        "        all_t.append(t)\n",
        "        ax1.cla()\n",
        "        ax1.plot(all_t, all_sharpe)\n",
        "        ax2.cla()\n",
        "        ax2.plot(all_t, all_cor)\n",
        "        ax3.cla()\n",
        "        ax3.plot(all_t, all_ratio)\n",
        "        display(fig)\n",
        "        clear_output(wait = True)\n",
        "        plt.pause(0.001)\n",
        "\n",
        "    # Before the backward pass, use the optimizer object to zero all of the\n",
        "    # gradients for the variables it will update (which are the learnable\n",
        "    # weights of the model). This is because by default, gradients are\n",
        "    # accumulated in buffers( i.e, not overwritten) whenever .backward()\n",
        "    # is called. Checkout docs of torch.autograd.backward for more details.\n",
        "    optimizer.zero_grad()\n",
        "\n",
        "    # Backward pass: compute gradient of the loss with respect to model\n",
        "    # parameters\n",
        "    model.train()\n",
        "    loss.backward()\n",
        "\n",
        "    # Calling the step function on an Optimizer makes an update to its\n",
        "    # parameters\n",
        "    optimizer.step()"
      ],
      "execution_count": null,
      "outputs": [
        {
          "output_type": "error",
          "ename": "KeyboardInterrupt",
          "evalue": "",
          "traceback": [
            "\u001b[0;31m---------------------------------------------------------------------------\u001b[0m",
            "\u001b[0;31mKeyboardInterrupt\u001b[0m                         Traceback (most recent call last)",
            "\u001b[0;32m<ipython-input-3-42b5117e3f3a>\u001b[0m in \u001b[0;36m<module>\u001b[0;34m\u001b[0m\n\u001b[1;32m     33\u001b[0m     \u001b[0mtemp_pred\u001b[0m \u001b[0;34m=\u001b[0m \u001b[0my_pred1\u001b[0m\u001b[0;34m.\u001b[0m\u001b[0mcpu\u001b[0m\u001b[0;34m(\u001b[0m\u001b[0;34m)\u001b[0m\u001b[0;34m.\u001b[0m\u001b[0mdetach\u001b[0m\u001b[0;34m(\u001b[0m\u001b[0;34m)\u001b[0m\u001b[0;34m.\u001b[0m\u001b[0mnumpy\u001b[0m\u001b[0;34m(\u001b[0m\u001b[0;34m)\u001b[0m\u001b[0;34m\u001b[0m\u001b[0;34m\u001b[0m\u001b[0m\n\u001b[1;32m     34\u001b[0m     \u001b[0;32mfor\u001b[0m \u001b[0mi\u001b[0m \u001b[0;32min\u001b[0m \u001b[0muEras1\u001b[0m\u001b[0;34m:\u001b[0m\u001b[0;34m\u001b[0m\u001b[0;34m\u001b[0m\u001b[0m\n\u001b[0;32m---> 35\u001b[0;31m         \u001b[0;34m[\u001b[0m\u001b[0mtemp\u001b[0m\u001b[0;34m,\u001b[0m \u001b[0mp\u001b[0m\u001b[0;34m]\u001b[0m \u001b[0;34m=\u001b[0m \u001b[0mstats\u001b[0m\u001b[0;34m.\u001b[0m\u001b[0mspearmanr\u001b[0m\u001b[0;34m(\u001b[0m\u001b[0my_val1\u001b[0m\u001b[0;34m[\u001b[0m\u001b[0meras_val1\u001b[0m \u001b[0;34m==\u001b[0m \u001b[0mi\u001b[0m\u001b[0;34m]\u001b[0m\u001b[0;34m,\u001b[0m \u001b[0mtemp_pred\u001b[0m\u001b[0;34m[\u001b[0m\u001b[0meras_val1\u001b[0m \u001b[0;34m==\u001b[0m \u001b[0mi\u001b[0m\u001b[0;34m]\u001b[0m\u001b[0;34m)\u001b[0m\u001b[0;34m\u001b[0m\u001b[0;34m\u001b[0m\u001b[0m\n\u001b[0m\u001b[1;32m     36\u001b[0m         \u001b[0mcor1\u001b[0m\u001b[0;34m.\u001b[0m\u001b[0mappend\u001b[0m\u001b[0;34m(\u001b[0m\u001b[0mtemp\u001b[0m\u001b[0;34m)\u001b[0m\u001b[0;34m\u001b[0m\u001b[0;34m\u001b[0m\u001b[0m\n\u001b[1;32m     37\u001b[0m     \u001b[0mtemp_pred\u001b[0m \u001b[0;34m=\u001b[0m \u001b[0my_pred2\u001b[0m\u001b[0;34m.\u001b[0m\u001b[0mcpu\u001b[0m\u001b[0;34m(\u001b[0m\u001b[0;34m)\u001b[0m\u001b[0;34m.\u001b[0m\u001b[0mdetach\u001b[0m\u001b[0;34m(\u001b[0m\u001b[0;34m)\u001b[0m\u001b[0;34m.\u001b[0m\u001b[0mnumpy\u001b[0m\u001b[0;34m(\u001b[0m\u001b[0;34m)\u001b[0m\u001b[0;34m\u001b[0m\u001b[0;34m\u001b[0m\u001b[0m\n",
            "\u001b[0;31mKeyboardInterrupt\u001b[0m: "
          ]
        }
      ]
    },
    {
      "cell_type": "code",
      "metadata": {
        "pycharm": {
          "name": "#%%\n"
        },
        "id": "kuTUCkci_9wW"
      },
      "source": [
        "w0 = best_model.state_dict()['0.weight'].cpu().detach().numpy()\n",
        "fig2 = plt.figure(figsize=(8,15), dpi=300)\n",
        "ax2 = fig2.add_subplot(1,1,1)\n",
        "ax2.imshow(w0)"
      ],
      "execution_count": null,
      "outputs": []
    },
    {
      "cell_type": "code",
      "metadata": {
        "pycharm": {
          "name": "#%%\n"
        },
        "id": "dGnFFCYJ_9wa",
        "outputId": "30f1778f-0f98-4289-f6b2-dad341752f98"
      },
      "source": [
        "data = {}\n",
        "f = h5py.File('TournamentData.mat')\n",
        "for k, v in f.items():\n",
        "    data[k] = np.array(v)\n",
        "data = torch.from_numpy(data.get('saveInpData')).transpose(0,1).type(torch.FloatTensor)\n",
        "y_pred = best_model(data)"
      ],
      "execution_count": null,
      "outputs": [
        {
          "output_type": "stream",
          "text": [
            "/home/jonathan/.conda/envs/torch/lib/python3.6/site-packages/ipykernel_launcher.py:2: H5pyDeprecationWarning: The default file mode will change to 'r' (read-only) in h5py 3.0. To suppress this warning, pass the mode you need to h5py.File(), or set the global default h5.get_config().default_file_mode, or set the environment variable H5PY_DEFAULT_READONLY=1. Available modes are: 'r', 'r+', 'w', 'w-'/'x', 'a'. See the docs for details.\n",
            "  \n"
          ],
          "name": "stderr"
        }
      ]
    },
    {
      "cell_type": "code",
      "metadata": {
        "pycharm": {
          "name": "#%%\n"
        },
        "id": "9aQ5SWG5_9we",
        "outputId": "4f79b180-992b-4054-9e7e-23ae0d24d577"
      },
      "source": [
        "df = pandas.read_csv(\"/media/jonathan/Data/Numerai/numerai_tournament_data.csv\")\n",
        "df.head()"
      ],
      "execution_count": null,
      "outputs": [
        {
          "output_type": "execute_result",
          "data": {
            "text/plain": [
              "                 id     era   data_type  feature_intelligence1  \\\n",
              "0  n0003aa52cab36c2  era121  validation                   0.25   \n",
              "1  n000920ed083903f  era121  validation                   0.75   \n",
              "2  n0038e640522c4a6  era121  validation                   1.00   \n",
              "3  n004ac94a87dc54b  era121  validation                   0.75   \n",
              "4  n0052fe97ea0c05f  era121  validation                   0.25   \n",
              "\n",
              "   feature_intelligence2  feature_intelligence3  feature_intelligence4  \\\n",
              "0                   0.75                   0.50                   0.50   \n",
              "1                   0.50                   0.75                   1.00   \n",
              "2                   0.00                   0.00                   1.00   \n",
              "3                   1.00                   1.00                   0.50   \n",
              "4                   0.50                   0.50                   0.25   \n",
              "\n",
              "   feature_intelligence5  feature_intelligence6  feature_intelligence7  ...  \\\n",
              "0                    0.0                   0.75                    0.5  ...   \n",
              "1                    0.5                   0.00                    0.0  ...   \n",
              "2                    1.0                   1.00                    1.0  ...   \n",
              "3                    0.0                   0.00                    0.0  ...   \n",
              "4                    1.0                   0.50                    0.5  ...   \n",
              "\n",
              "   feature_wisdom38  feature_wisdom39  feature_wisdom40  feature_wisdom41  \\\n",
              "0              0.75              0.75              1.00              0.75   \n",
              "1              0.50              0.50              0.75              1.00   \n",
              "2              0.00              0.00              0.50              0.25   \n",
              "3              0.00              0.00              0.00              0.25   \n",
              "4              0.50              0.75              0.00              0.00   \n",
              "\n",
              "   feature_wisdom42  feature_wisdom43  feature_wisdom44  feature_wisdom45  \\\n",
              "0              0.50               0.5               1.0              0.00   \n",
              "1              0.75               0.5               0.5              0.50   \n",
              "2              0.00               0.0               0.5              0.50   \n",
              "3              0.00               0.0               0.0              0.25   \n",
              "4              0.75               1.0               0.0              0.25   \n",
              "\n",
              "   feature_wisdom46  target_kazutsugi  \n",
              "0              0.00              0.00  \n",
              "1              0.50              0.25  \n",
              "2              0.00              1.00  \n",
              "3              0.25              0.75  \n",
              "4              1.00              1.00  \n",
              "\n",
              "[5 rows x 314 columns]"
            ],
            "text/html": [
              "<div>\n",
              "<style scoped>\n",
              "    .dataframe tbody tr th:only-of-type {\n",
              "        vertical-align: middle;\n",
              "    }\n",
              "\n",
              "    .dataframe tbody tr th {\n",
              "        vertical-align: top;\n",
              "    }\n",
              "\n",
              "    .dataframe thead th {\n",
              "        text-align: right;\n",
              "    }\n",
              "</style>\n",
              "<table border=\"1\" class=\"dataframe\">\n",
              "  <thead>\n",
              "    <tr style=\"text-align: right;\">\n",
              "      <th></th>\n",
              "      <th>id</th>\n",
              "      <th>era</th>\n",
              "      <th>data_type</th>\n",
              "      <th>feature_intelligence1</th>\n",
              "      <th>feature_intelligence2</th>\n",
              "      <th>feature_intelligence3</th>\n",
              "      <th>feature_intelligence4</th>\n",
              "      <th>feature_intelligence5</th>\n",
              "      <th>feature_intelligence6</th>\n",
              "      <th>feature_intelligence7</th>\n",
              "      <th>...</th>\n",
              "      <th>feature_wisdom38</th>\n",
              "      <th>feature_wisdom39</th>\n",
              "      <th>feature_wisdom40</th>\n",
              "      <th>feature_wisdom41</th>\n",
              "      <th>feature_wisdom42</th>\n",
              "      <th>feature_wisdom43</th>\n",
              "      <th>feature_wisdom44</th>\n",
              "      <th>feature_wisdom45</th>\n",
              "      <th>feature_wisdom46</th>\n",
              "      <th>target_kazutsugi</th>\n",
              "    </tr>\n",
              "  </thead>\n",
              "  <tbody>\n",
              "    <tr>\n",
              "      <th>0</th>\n",
              "      <td>n0003aa52cab36c2</td>\n",
              "      <td>era121</td>\n",
              "      <td>validation</td>\n",
              "      <td>0.25</td>\n",
              "      <td>0.75</td>\n",
              "      <td>0.50</td>\n",
              "      <td>0.50</td>\n",
              "      <td>0.0</td>\n",
              "      <td>0.75</td>\n",
              "      <td>0.5</td>\n",
              "      <td>...</td>\n",
              "      <td>0.75</td>\n",
              "      <td>0.75</td>\n",
              "      <td>1.00</td>\n",
              "      <td>0.75</td>\n",
              "      <td>0.50</td>\n",
              "      <td>0.5</td>\n",
              "      <td>1.0</td>\n",
              "      <td>0.00</td>\n",
              "      <td>0.00</td>\n",
              "      <td>0.00</td>\n",
              "    </tr>\n",
              "    <tr>\n",
              "      <th>1</th>\n",
              "      <td>n000920ed083903f</td>\n",
              "      <td>era121</td>\n",
              "      <td>validation</td>\n",
              "      <td>0.75</td>\n",
              "      <td>0.50</td>\n",
              "      <td>0.75</td>\n",
              "      <td>1.00</td>\n",
              "      <td>0.5</td>\n",
              "      <td>0.00</td>\n",
              "      <td>0.0</td>\n",
              "      <td>...</td>\n",
              "      <td>0.50</td>\n",
              "      <td>0.50</td>\n",
              "      <td>0.75</td>\n",
              "      <td>1.00</td>\n",
              "      <td>0.75</td>\n",
              "      <td>0.5</td>\n",
              "      <td>0.5</td>\n",
              "      <td>0.50</td>\n",
              "      <td>0.50</td>\n",
              "      <td>0.25</td>\n",
              "    </tr>\n",
              "    <tr>\n",
              "      <th>2</th>\n",
              "      <td>n0038e640522c4a6</td>\n",
              "      <td>era121</td>\n",
              "      <td>validation</td>\n",
              "      <td>1.00</td>\n",
              "      <td>0.00</td>\n",
              "      <td>0.00</td>\n",
              "      <td>1.00</td>\n",
              "      <td>1.0</td>\n",
              "      <td>1.00</td>\n",
              "      <td>1.0</td>\n",
              "      <td>...</td>\n",
              "      <td>0.00</td>\n",
              "      <td>0.00</td>\n",
              "      <td>0.50</td>\n",
              "      <td>0.25</td>\n",
              "      <td>0.00</td>\n",
              "      <td>0.0</td>\n",
              "      <td>0.5</td>\n",
              "      <td>0.50</td>\n",
              "      <td>0.00</td>\n",
              "      <td>1.00</td>\n",
              "    </tr>\n",
              "    <tr>\n",
              "      <th>3</th>\n",
              "      <td>n004ac94a87dc54b</td>\n",
              "      <td>era121</td>\n",
              "      <td>validation</td>\n",
              "      <td>0.75</td>\n",
              "      <td>1.00</td>\n",
              "      <td>1.00</td>\n",
              "      <td>0.50</td>\n",
              "      <td>0.0</td>\n",
              "      <td>0.00</td>\n",
              "      <td>0.0</td>\n",
              "      <td>...</td>\n",
              "      <td>0.00</td>\n",
              "      <td>0.00</td>\n",
              "      <td>0.00</td>\n",
              "      <td>0.25</td>\n",
              "      <td>0.00</td>\n",
              "      <td>0.0</td>\n",
              "      <td>0.0</td>\n",
              "      <td>0.25</td>\n",
              "      <td>0.25</td>\n",
              "      <td>0.75</td>\n",
              "    </tr>\n",
              "    <tr>\n",
              "      <th>4</th>\n",
              "      <td>n0052fe97ea0c05f</td>\n",
              "      <td>era121</td>\n",
              "      <td>validation</td>\n",
              "      <td>0.25</td>\n",
              "      <td>0.50</td>\n",
              "      <td>0.50</td>\n",
              "      <td>0.25</td>\n",
              "      <td>1.0</td>\n",
              "      <td>0.50</td>\n",
              "      <td>0.5</td>\n",
              "      <td>...</td>\n",
              "      <td>0.50</td>\n",
              "      <td>0.75</td>\n",
              "      <td>0.00</td>\n",
              "      <td>0.00</td>\n",
              "      <td>0.75</td>\n",
              "      <td>1.0</td>\n",
              "      <td>0.0</td>\n",
              "      <td>0.25</td>\n",
              "      <td>1.00</td>\n",
              "      <td>1.00</td>\n",
              "    </tr>\n",
              "  </tbody>\n",
              "</table>\n",
              "<p>5 rows × 314 columns</p>\n",
              "</div>"
            ]
          },
          "metadata": {
            "tags": []
          },
          "execution_count": 5
        }
      ]
    },
    {
      "cell_type": "code",
      "metadata": {
        "pycharm": {
          "name": "#%%\n"
        },
        "id": "4ZN7WBIM_9wj"
      },
      "source": [
        "best_model.load_state_dict(torch.load('/media/jonathan/Data/Numerai/PYTORCH2/best_model'))\n",
        "y_pred = best_model(data)"
      ],
      "execution_count": null,
      "outputs": []
    },
    {
      "cell_type": "code",
      "metadata": {
        "pycharm": {
          "name": "#%%\n"
        },
        "id": "HOxsZfow_9wo"
      },
      "source": [
        "df2 = pandas.DataFrame()\n",
        "df2['id'] = df['id']\n",
        "df2['prediction_kazutsugi'] = y_pred.detach().numpy()\n",
        "df2.to_csv(\"/media/jonathan/Data/Numerai/PYTORCH2/pytorch_test.csv\", index=False)\n",
        "#torch.save(best_model.state_dict(), '/media/jonathan/Data/Numerai/PYTORCH1/best_model')"
      ],
      "execution_count": null,
      "outputs": []
    }
  ]
}