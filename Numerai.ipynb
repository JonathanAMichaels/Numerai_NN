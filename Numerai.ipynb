{
  "nbformat": 4,
  "nbformat_minor": 0,
  "metadata": {
    "kernelspec": {
      "name": "python3",
      "display_name": "Python 3"
    },
    "colab": {
      "name": "Numerai.ipynb",
      "provenance": [],
      "include_colab_link": true
    },
    "accelerator": "GPU"
  },
  "cells": [
    {
      "cell_type": "markdown",
      "metadata": {
        "id": "view-in-github",
        "colab_type": "text"
      },
      "source": [
        "<a href=\"https://colab.research.google.com/github/JonathanAMichaels/Numerai_NN/blob/main/Numerai.ipynb\" target=\"_parent\"><img src=\"https://colab.research.google.com/assets/colab-badge.svg\" alt=\"Open In Colab\"/></a>"
      ]
    },
    {
      "cell_type": "code",
      "metadata": {
        "id": "Edgh_Ba7_9wE",
        "outputId": "c3d0f96e-ff09-4c77-c867-2f1e71680165",
        "colab": {
          "base_uri": "https://localhost:8080/",
          "height": 102
        }
      },
      "source": [
        "import torch\n",
        "import copy\n",
        "import torch.nn as nn\n",
        "import pandas as pd\n",
        "import numpy as np\n",
        "import gdown\n",
        "import matplotlib.pyplot as plt\n",
        "from scipy import stats\n",
        "from scipy.io import loadmat\n",
        "from IPython.display import display, clear_output\n",
        "\n",
        "# Check if GPU is available\n",
        "if torch.cuda.is_available():\n",
        "    device = torch.device(\"cuda\")\n",
        "    print(\"GPU\")\n",
        "else:\n",
        "    device = torch.device(\"cpu\")\n",
        "    print(\"CPU\")\n",
        "\n",
        "url = 'https://drive.google.com/uc?id=1K7CnXKoEW7sKCwb9D6TboQsVDWgVdiez'\n",
        "output = 'numerai_training_validation_target_nomi.parquet'\n",
        "gdown.download(url, output, quiet=False)\n",
        "\n",
        "training_data = pd.read_parquet(\"/content/numerai_training_validation_target_nomi.parquet\")\n",
        "train = training_data[training_data.data_type=='train']\n",
        "val = training_data[training_data.data_type=='validation']\n",
        "\n",
        "target = \"target_nomi\" \n",
        "feature_columns = [c for c in train if c.startswith(\"feature\")] \n",
        "\n",
        "# get indexes for each era\n",
        "era_train = [np.where(train.era==uera)[0] for uera in train.era.unique()]\n",
        "era_val = [np.where(val.era==uera)[0] for uera in val.era.unique()]\n",
        "\n",
        "x = torch.tensor(train[feature_columns].to_numpy()).type(torch.FloatTensor).to(device)\n",
        "y = torch.tensor(np.reshape(train[target].to_numpy(), (-1, 1))).type(torch.FloatTensor).to(device)\n",
        "x_val = torch.tensor(val[feature_columns].to_numpy()).type(torch.FloatTensor).to(device)\n",
        "y_val = val[target].to_numpy()"
      ],
      "execution_count": 2,
      "outputs": [
        {
          "output_type": "stream",
          "text": [
            "GPU\n"
          ],
          "name": "stdout"
        },
        {
          "output_type": "stream",
          "text": [
            "Downloading...\n",
            "From: https://drive.google.com/uc?id=1K7CnXKoEW7sKCwb9D6TboQsVDWgVdiez\n",
            "To: /content/numerai_training_validation_target_nomi.parquet\n",
            "81.2MB [00:00, 137MB/s] \n"
          ],
          "name": "stderr"
        }
      ]
    },
    {
      "cell_type": "code",
      "metadata": {
        "pycharm": {
          "name": "#%%\n"
        },
        "id": "NaLIpxe1_9wM"
      },
      "source": [
        "# N is batch size; D_in is input dimension;\n",
        "# H is hidden dimension; D_out is output dimension.\n",
        "N, D_in, H, D_out = 15000, x.shape[1], 4000, 1\n",
        "\n",
        "# Use the nn package to define our model and loss function.\n",
        "model = nn.Sequential(\n",
        "    nn.Linear(D_in, H),\n",
        "    nn.RReLU(),\n",
        "    nn.Linear(H, D_out),\n",
        "    nn.Sigmoid(),\n",
        ")\n",
        "model.to(device)\n",
        "\n",
        "learning_rate = 1e-4\n",
        "optimizer = torch.optim.Adam(model.parameters(), lr=learning_rate, weight_decay= 1e-5)"
      ],
      "execution_count": 3,
      "outputs": []
    },
    {
      "cell_type": "code",
      "metadata": {
        "pycharm": {
          "name": "#%%\n"
        },
        "id": "ufHj-aSM_9wR",
        "outputId": "dd82b382-e1cb-44b0-a23a-106b592e68e5",
        "colab": {
          "base_uri": "https://localhost:8080/",
          "height": 287
        }
      },
      "source": [
        "fig = plt.figure(figsize=(9,3), dpi=100)\n",
        "ax1 = fig.add_subplot(1,3,1)\n",
        "ax2 = fig.add_subplot(1,3,2)\n",
        "ax3 = fig.add_subplot(1,3,3)\n",
        "\n",
        "all_loss = []\n",
        "all_sharpe = []\n",
        "all_cor = []\n",
        "all_traincor = []\n",
        "all_t = []\n",
        "best_sharpe = 0\n",
        "for t in range(5000):\n",
        "    batch_ind = np.random.randint(0,x.shape[0]-1,N)\n",
        "    # Forward pass: compute predicted y by passing x to the model.\n",
        "    y_pred = model(x[batch_ind,:])\n",
        "\n",
        "    # Compute loss.\n",
        "    criterion = torch.nn.BCELoss()\n",
        "    loss = criterion(y_pred, y[batch_ind])\n",
        "  \n",
        "    [traincor, p] = stats.spearmanr(y_pred.cpu().detach().numpy(), y[batch_ind].cpu().detach().numpy())\n",
        "    y_pred_val = model(x_val)\n",
        "    cor = []\n",
        "    temp_pred = y_pred_val.cpu().detach().numpy()\n",
        "    for i in range(len(era_val)):\n",
        "        [temp, p] = stats.spearmanr(y_val[era_val[i]], temp_pred[era_val[i]])\n",
        "        cor.append(temp)\n",
        "    sharpe = np.mean(cor) / np.std(cor)\n",
        "    if sharpe > best_sharpe:\n",
        "        best_sharpe = sharpe\n",
        "        best_model = copy.deepcopy(model)\n",
        "        best_model.to(torch.device(\"cpu\"))\n",
        "    if (t % 20 == 0) and (t > 0):\n",
        "        all_sharpe.append(sharpe)\n",
        "        all_cor.append(np.mean(cor))\n",
        "        all_traincor.append(traincor)\n",
        "        all_t.append(t)\n",
        "        ax1.cla()\n",
        "        ax1.plot(all_t, all_sharpe)\n",
        "        ax2.cla()\n",
        "        ax2.plot(all_t, all_cor)\n",
        "        ax3.cla()\n",
        "        ax3.plot(all_t, all_traincor)\n",
        "        display(fig)\n",
        "        clear_output(wait = True)\n",
        "        plt.pause(0.001)\n",
        "\n",
        "    optimizer.zero_grad()\n",
        "\n",
        "    loss.backward()\n",
        "\n",
        "    optimizer.step()"
      ],
      "execution_count": null,
      "outputs": [
        {
          "output_type": "display_data",
          "data": {
            "image/png": "[encoded data removed]",
            "text/plain": [
              "<Figure size 900x300 with 3 Axes>"
            ]
          },
          "metadata": {
            "tags": []
          }
        }
      ]
    },
    {
      "cell_type": "code",
      "metadata": {
        "pycharm": {
          "name": "#%%\n"
        },
        "id": "kuTUCkci_9wW",
        "outputId": "5f6171ac-0c45-4623-b2d3-10ce0f7a4f90",
        "colab": {
          "base_uri": "https://localhost:8080/",
          "height": 164
        }
      },
      "source": [
        "print(best_sharpe)"
      ],
      "execution_count": 1,
      "outputs": [
        {
          "output_type": "error",
          "ename": "NameError",
          "evalue": "ignored",
          "traceback": [
            "\u001b[0;31m---------------------------------------------------------------------------\u001b[0m",
            "\u001b[0;31mNameError\u001b[0m                                 Traceback (most recent call last)",
            "\u001b[0;32m<ipython-input-1-d347b467ce65>\u001b[0m in \u001b[0;36m<module>\u001b[0;34m()\u001b[0m\n\u001b[0;32m----> 1\u001b[0;31m \u001b[0mprint\u001b[0m\u001b[0;34m(\u001b[0m\u001b[0mbest_sharpe\u001b[0m\u001b[0;34m)\u001b[0m\u001b[0;34m\u001b[0m\u001b[0;34m\u001b[0m\u001b[0m\n\u001b[0m",
            "\u001b[0;31mNameError\u001b[0m: name 'best_sharpe' is not defined"
          ]
        }
      ]
    },
    {
      "cell_type": "code",
      "metadata": {
        "pycharm": {
          "name": "#%%\n"
        },
        "id": "dGnFFCYJ_9wa",
        "outputId": "9e84cd61-37b5-4f0a-d194-74905d31f854",
        "colab": {
          "base_uri": "https://localhost:8080/",
          "height": 232
        }
      },
      "source": [
        "data = {}\n",
        "f = h5py.File('TournamentData.mat')\n",
        "for k, v in f.items():\n",
        "    data[k] = np.array(v)\n",
        "data = torch.from_numpy(data.get('saveInpData')).transpose(0,1).type(torch.FloatTensor)\n",
        "y_pred = best_model(data)"
      ],
      "execution_count": null,
      "outputs": [
        {
          "output_type": "error",
          "ename": "NameError",
          "evalue": "ignored",
          "traceback": [
            "\u001b[0;31m---------------------------------------------------------------------------\u001b[0m",
            "\u001b[0;31mNameError\u001b[0m                                 Traceback (most recent call last)",
            "\u001b[0;32m<ipython-input-5-26ac80d93a4f>\u001b[0m in \u001b[0;36m<module>\u001b[0;34m()\u001b[0m\n\u001b[1;32m      1\u001b[0m \u001b[0mdata\u001b[0m \u001b[0;34m=\u001b[0m \u001b[0;34m{\u001b[0m\u001b[0;34m}\u001b[0m\u001b[0;34m\u001b[0m\u001b[0;34m\u001b[0m\u001b[0m\n\u001b[0;32m----> 2\u001b[0;31m \u001b[0mf\u001b[0m \u001b[0;34m=\u001b[0m \u001b[0mh5py\u001b[0m\u001b[0;34m.\u001b[0m\u001b[0mFile\u001b[0m\u001b[0;34m(\u001b[0m\u001b[0;34m'TournamentData.mat'\u001b[0m\u001b[0;34m)\u001b[0m\u001b[0;34m\u001b[0m\u001b[0;34m\u001b[0m\u001b[0m\n\u001b[0m\u001b[1;32m      3\u001b[0m \u001b[0;32mfor\u001b[0m \u001b[0mk\u001b[0m\u001b[0;34m,\u001b[0m \u001b[0mv\u001b[0m \u001b[0;32min\u001b[0m \u001b[0mf\u001b[0m\u001b[0;34m.\u001b[0m\u001b[0mitems\u001b[0m\u001b[0;34m(\u001b[0m\u001b[0;34m)\u001b[0m\u001b[0;34m:\u001b[0m\u001b[0;34m\u001b[0m\u001b[0;34m\u001b[0m\u001b[0m\n\u001b[1;32m      4\u001b[0m     \u001b[0mdata\u001b[0m\u001b[0;34m[\u001b[0m\u001b[0mk\u001b[0m\u001b[0;34m]\u001b[0m \u001b[0;34m=\u001b[0m \u001b[0mnp\u001b[0m\u001b[0;34m.\u001b[0m\u001b[0marray\u001b[0m\u001b[0;34m(\u001b[0m\u001b[0mv\u001b[0m\u001b[0;34m)\u001b[0m\u001b[0;34m\u001b[0m\u001b[0;34m\u001b[0m\u001b[0m\n\u001b[1;32m      5\u001b[0m \u001b[0mdata\u001b[0m \u001b[0;34m=\u001b[0m \u001b[0mtorch\u001b[0m\u001b[0;34m.\u001b[0m\u001b[0mfrom_numpy\u001b[0m\u001b[0;34m(\u001b[0m\u001b[0mdata\u001b[0m\u001b[0;34m.\u001b[0m\u001b[0mget\u001b[0m\u001b[0;34m(\u001b[0m\u001b[0;34m'saveInpData'\u001b[0m\u001b[0;34m)\u001b[0m\u001b[0;34m)\u001b[0m\u001b[0;34m.\u001b[0m\u001b[0mtranspose\u001b[0m\u001b[0;34m(\u001b[0m\u001b[0;36m0\u001b[0m\u001b[0;34m,\u001b[0m\u001b[0;36m1\u001b[0m\u001b[0;34m)\u001b[0m\u001b[0;34m.\u001b[0m\u001b[0mtype\u001b[0m\u001b[0;34m(\u001b[0m\u001b[0mtorch\u001b[0m\u001b[0;34m.\u001b[0m\u001b[0mFloatTensor\u001b[0m\u001b[0;34m)\u001b[0m\u001b[0;34m\u001b[0m\u001b[0;34m\u001b[0m\u001b[0m\n",
            "\u001b[0;31mNameError\u001b[0m: name 'h5py' is not defined"
          ]
        }
      ]
    },
    {
      "cell_type": "code",
      "metadata": {
        "pycharm": {
          "name": "#%%\n"
        },
        "id": "9aQ5SWG5_9we"
      },
      "source": [
        "df = pandas.read_csv(\"/media/jonathan/Data/Numerai/numerai_tournament_data.csv\")\n",
        "df.head()"
      ],
      "execution_count": null,
      "outputs": []
    },
    {
      "cell_type": "code",
      "metadata": {
        "pycharm": {
          "name": "#%%\n"
        },
        "id": "4ZN7WBIM_9wj"
      },
      "source": [
        "best_model.load_state_dict(torch.load('/media/jonathan/Data/Numerai/PYTORCH2/best_model'))\n",
        "y_pred = best_model(data)"
      ],
      "execution_count": null,
      "outputs": []
    },
    {
      "cell_type": "code",
      "metadata": {
        "pycharm": {
          "name": "#%%\n"
        },
        "id": "HOxsZfow_9wo"
      },
      "source": [
        "df2 = pandas.DataFrame()\n",
        "df2['id'] = df['id']\n",
        "df2['prediction_kazutsugi'] = y_pred.detach().numpy()\n",
        "df2.to_csv(\"/media/jonathan/Data/Numerai/PYTORCH2/pytorch_test.csv\", index=False)\n",
        "#torch.save(best_model.state_dict(), '/media/jonathan/Data/Numerai/PYTORCH1/best_model')"
      ],
      "execution_count": null,
      "outputs": []
    }
  ]
}